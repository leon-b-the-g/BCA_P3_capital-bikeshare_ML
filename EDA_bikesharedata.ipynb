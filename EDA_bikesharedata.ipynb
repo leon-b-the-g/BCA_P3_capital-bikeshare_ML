{
 "cells": [
  {
   "cell_type": "code",
   "execution_count": 87,
   "metadata": {},
   "outputs": [],
   "source": [
    "# importing neccessery libriries\n",
    "import pandas as pd\n",
    "import numpy as np\n",
    "import matplotlib.pyplot as plt\n",
    "import seaborn as sns\n",
    "\n",
    "from datetime import datetime\n",
    "import holidays\n",
    "\n",
    "#folium and google collab\n",
    "import folium\n",
    "#import google.colab"
   ]
  },
  {
   "cell_type": "code",
   "execution_count": 88,
   "metadata": {},
   "outputs": [],
   "source": [
    "#Load in datasets\n",
    "\n",
    "df_spring = pd.read_csv(\"Data_raw/202404-capitalbikeshare-tripdata/202004-capitalbikeshare-tripdata.csv\",sep = \",\")\n",
    "\n",
    "df_fall = pd.read_csv(\"Data_raw/202409-capitalbikeshare-tripdata/202409-capitalbikeshare-tripdata.csv\",sep = \",\")"
   ]
  },
  {
   "cell_type": "code",
   "execution_count": 89,
   "metadata": {},
   "outputs": [
    {
     "data": {
      "text/html": [
       "<div>\n",
       "<style scoped>\n",
       "    .dataframe tbody tr th:only-of-type {\n",
       "        vertical-align: middle;\n",
       "    }\n",
       "\n",
       "    .dataframe tbody tr th {\n",
       "        vertical-align: top;\n",
       "    }\n",
       "\n",
       "    .dataframe thead th {\n",
       "        text-align: right;\n",
       "    }\n",
       "</style>\n",
       "<table border=\"1\" class=\"dataframe\">\n",
       "  <thead>\n",
       "    <tr style=\"text-align: right;\">\n",
       "      <th></th>\n",
       "      <th>ride_id</th>\n",
       "      <th>rideable_type</th>\n",
       "      <th>started_at</th>\n",
       "      <th>ended_at</th>\n",
       "      <th>start_station_name</th>\n",
       "      <th>start_station_id</th>\n",
       "      <th>end_station_name</th>\n",
       "      <th>end_station_id</th>\n",
       "      <th>start_lat</th>\n",
       "      <th>start_lng</th>\n",
       "      <th>end_lat</th>\n",
       "      <th>end_lng</th>\n",
       "      <th>member_casual</th>\n",
       "    </tr>\n",
       "  </thead>\n",
       "  <tbody>\n",
       "    <tr>\n",
       "      <th>0</th>\n",
       "      <td>0DCF75B9433427B1</td>\n",
       "      <td>classic_bike</td>\n",
       "      <td>2024-04-29 17:03:15</td>\n",
       "      <td>2024-04-29 17:10:14</td>\n",
       "      <td>Jones Branch &amp; Westbranch Dr</td>\n",
       "      <td>32206.0</td>\n",
       "      <td>McLean Metro</td>\n",
       "      <td>32230.0</td>\n",
       "      <td>38.931911</td>\n",
       "      <td>-77.219261</td>\n",
       "      <td>38.924002</td>\n",
       "      <td>-77.208127</td>\n",
       "      <td>member</td>\n",
       "    </tr>\n",
       "    <tr>\n",
       "      <th>1</th>\n",
       "      <td>EBA4FE55DA3CE4D2</td>\n",
       "      <td>classic_bike</td>\n",
       "      <td>2024-04-19 17:36:14</td>\n",
       "      <td>2024-04-19 17:41:31</td>\n",
       "      <td>14th &amp; Otis Pl NW</td>\n",
       "      <td>31131.0</td>\n",
       "      <td>Lamont &amp; Mt Pleasant NW</td>\n",
       "      <td>31107.0</td>\n",
       "      <td>38.934405</td>\n",
       "      <td>-77.032687</td>\n",
       "      <td>38.931900</td>\n",
       "      <td>-77.038800</td>\n",
       "      <td>member</td>\n",
       "    </tr>\n",
       "  </tbody>\n",
       "</table>\n",
       "</div>"
      ],
      "text/plain": [
       "            ride_id rideable_type           started_at             ended_at  \\\n",
       "0  0DCF75B9433427B1  classic_bike  2024-04-29 17:03:15  2024-04-29 17:10:14   \n",
       "1  EBA4FE55DA3CE4D2  classic_bike  2024-04-19 17:36:14  2024-04-19 17:41:31   \n",
       "\n",
       "             start_station_name  start_station_id         end_station_name  \\\n",
       "0  Jones Branch & Westbranch Dr           32206.0             McLean Metro   \n",
       "1             14th & Otis Pl NW           31131.0  Lamont & Mt Pleasant NW   \n",
       "\n",
       "   end_station_id  start_lat  start_lng    end_lat    end_lng member_casual  \n",
       "0         32230.0  38.931911 -77.219261  38.924002 -77.208127        member  \n",
       "1         31107.0  38.934405 -77.032687  38.931900 -77.038800        member  "
      ]
     },
     "execution_count": 89,
     "metadata": {},
     "output_type": "execute_result"
    }
   ],
   "source": [
    "df_spring.head(2)\n",
    "\n",
    "#ride_id\n",
    "#rideable_type\n",
    "#started_at\n",
    "#ended_at\n",
    "\n",
    "#start_station_name\n",
    "#start_station_id\n",
    "#end_station_name\n",
    "#end_station_id\n",
    "\n",
    "#start_lat\n",
    "#start_lng\n",
    "#end_lat\n",
    "#end_lng\n",
    "\n",
    "#member_casual"
   ]
  },
  {
   "cell_type": "code",
   "execution_count": 90,
   "metadata": {},
   "outputs": [
    {
     "data": {
      "text/plain": [
       "ride_id                object\n",
       "rideable_type          object\n",
       "started_at             object\n",
       "ended_at               object\n",
       "start_station_name     object\n",
       "start_station_id      float64\n",
       "end_station_name       object\n",
       "end_station_id        float64\n",
       "start_lat             float64\n",
       "start_lng             float64\n",
       "end_lat               float64\n",
       "end_lng               float64\n",
       "member_casual          object\n",
       "dtype: object"
      ]
     },
     "execution_count": 90,
     "metadata": {},
     "output_type": "execute_result"
    }
   ],
   "source": [
    "df_spring.dtypes"
   ]
  },
  {
   "cell_type": "code",
   "execution_count": 91,
   "metadata": {},
   "outputs": [],
   "source": [
    "df_spring['started_at'] = pd.to_datetime(df_spring['started_at'])\n",
    "df_spring['ended_at'] = pd.to_datetime(df_spring['ended_at'])\n",
    "\n",
    "df_fall['started_at'] = pd.to_datetime(df_fall['started_at'])\n",
    "df_fall['ended_at'] = pd.to_datetime(df_fall['ended_at'])\n"
   ]
  },
  {
   "cell_type": "code",
   "execution_count": 92,
   "metadata": {},
   "outputs": [],
   "source": [
    "df_fall.isnull().sum()\n",
    "df_fall_nonull = df_fall.dropna()\n",
    "df_spring_nonull = df_spring.dropna()\n",
    "\n",
    "\n"
   ]
  },
  {
   "cell_type": "code",
   "execution_count": 93,
   "metadata": {},
   "outputs": [
    {
     "data": {
      "text/plain": [
       "ride_id               0\n",
       "rideable_type         0\n",
       "started_at            0\n",
       "ended_at              0\n",
       "start_station_name    0\n",
       "start_station_id      0\n",
       "end_station_name      0\n",
       "end_station_id        0\n",
       "start_lat             0\n",
       "start_lng             0\n",
       "end_lat               0\n",
       "end_lng               0\n",
       "member_casual         0\n",
       "dtype: int64"
      ]
     },
     "execution_count": 93,
     "metadata": {},
     "output_type": "execute_result"
    }
   ],
   "source": [
    "df_fall_nonull.isnull().sum()\n",
    "df_spring_nonull.isnull().sum()"
   ]
  },
  {
   "cell_type": "code",
   "execution_count": 94,
   "metadata": {},
   "outputs": [
    {
     "data": {
      "text/plain": [
       "ride_id                       object\n",
       "rideable_type                 object\n",
       "started_at            datetime64[ns]\n",
       "ended_at              datetime64[ns]\n",
       "start_station_name            object\n",
       "start_station_id             float64\n",
       "end_station_name              object\n",
       "end_station_id               float64\n",
       "start_lat                    float64\n",
       "start_lng                    float64\n",
       "end_lat                      float64\n",
       "end_lng                      float64\n",
       "member_casual                 object\n",
       "dtype: object"
      ]
     },
     "execution_count": 94,
     "metadata": {},
     "output_type": "execute_result"
    }
   ],
   "source": [
    "df_spring_nonull.head(2)\n",
    "df_spring_nonull.dtypes"
   ]
  },
  {
   "cell_type": "code",
   "execution_count": 95,
   "metadata": {},
   "outputs": [
    {
     "data": {
      "text/plain": [
       "(308166, 13)"
      ]
     },
     "execution_count": 95,
     "metadata": {},
     "output_type": "execute_result"
    }
   ],
   "source": [
    "\n",
    "\n",
    "df_spring_daytime = df_spring_nonull[(df_spring_nonull['started_at'].dt.hour >= 8) \n",
    "        & (df_spring_nonull['started_at'].dt.hour <= 19)]  # filter by working hours\n",
    "\n",
    "\n",
    "\n",
    "df_spring_daytime.shape"
   ]
  },
  {
   "cell_type": "code",
   "execution_count": 96,
   "metadata": {},
   "outputs": [],
   "source": [
    "#Filtering dfs for morning rush/afternoon rush hours\n",
    "df_spring_morning = df_spring_nonull[(df_spring_nonull['started_at'].dt.hour >= 8) \n",
    "        & (df_spring_nonull['started_at'].dt.hour <= 12)]  # filter by working hours\n",
    "\n",
    "df_fall_morning = df_fall_nonull[(df_fall_nonull['started_at'].dt.hour >= 8) \n",
    "        & (df_fall_nonull['started_at'].dt.hour <= 12)]  # filter by working hours\n",
    "\n",
    "df_spring_evening = df_spring_nonull[(df_spring_nonull['started_at'].dt.hour >= 13) \n",
    "        & (df_spring_nonull['started_at'].dt.hour <= 19)]  # filter by working hours\n",
    "\n",
    "df_fall_evening = df_fall_nonull[(df_fall_nonull['started_at'].dt.hour >= 13) \n",
    "        & (df_fall_nonull['started_at'].dt.hour <= 19)]  # filter by working hours"
   ]
  },
  {
   "cell_type": "code",
   "execution_count": 97,
   "metadata": {},
   "outputs": [
    {
     "data": {
      "text/plain": [
       "(101701, 13)"
      ]
     },
     "execution_count": 97,
     "metadata": {},
     "output_type": "execute_result"
    }
   ],
   "source": [
    "df_spring_morning.shape"
   ]
  },
  {
   "cell_type": "code",
   "execution_count": 98,
   "metadata": {},
   "outputs": [
    {
     "data": {
      "text/plain": [
       "ride_id               0\n",
       "rideable_type         0\n",
       "started_at            0\n",
       "ended_at              0\n",
       "start_station_name    0\n",
       "start_station_id      0\n",
       "end_station_name      0\n",
       "end_station_id        0\n",
       "start_lat             0\n",
       "start_lng             0\n",
       "end_lat               0\n",
       "end_lng               0\n",
       "member_casual         0\n",
       "dtype: int64"
      ]
     },
     "execution_count": 98,
     "metadata": {},
     "output_type": "execute_result"
    }
   ],
   "source": [
    "df_spring_morning.isnull().sum()"
   ]
  },
  {
   "cell_type": "code",
   "execution_count": 99,
   "metadata": {},
   "outputs": [
    {
     "data": {
      "text/plain": [
       "ride_id                       object\n",
       "rideable_type                 object\n",
       "started_at            datetime64[ns]\n",
       "ended_at              datetime64[ns]\n",
       "start_station_name            object\n",
       "start_station_id             float64\n",
       "end_station_name              object\n",
       "end_station_id               float64\n",
       "start_lat                    float64\n",
       "start_lng                    float64\n",
       "end_lat                      float64\n",
       "end_lng                      float64\n",
       "member_casual                 object\n",
       "dtype: object"
      ]
     },
     "execution_count": 99,
     "metadata": {},
     "output_type": "execute_result"
    }
   ],
   "source": [
    "#Filter data frames to cut down on iteration times\n",
    "\n",
    "df_spring_morning_filtered = df_spring_morning[[\"start_lat\",\"start_lng\",\"end_lat\",\"end_lng\"]]\n",
    "df_spring_evening_filtered = df_spring_evening[[\"start_lat\",\"start_lng\",\"end_lat\",\"end_lng\"]]\n",
    "\n",
    "df_fall_morning_filtered = df_fall_morning[[\"start_lat\",\"start_lng\",\"end_lat\",\"end_lng\"]]\n",
    "df_fall_evening_filtered = df_fall_evening[[\"start_lat\",\"start_lng\",\"end_lat\",\"end_lng\"]]\n",
    "\n",
    "df_spring_morning.dtypes"
   ]
  },
  {
   "cell_type": "code",
   "execution_count": 100,
   "metadata": {},
   "outputs": [],
   "source": [
    "from folium.plugins import HeatMap"
   ]
  },
  {
   "cell_type": "code",
   "execution_count": 101,
   "metadata": {},
   "outputs": [],
   "source": [
    "\n",
    "# Create a Folium map with a base layer\n",
    "m = folium.Map(location=[38.889805,-77.009056], zoom_start=11) #starting lat lng of washington DC\n",
    "\n",
    "# Define the HeatMap object with the start/end locations and frequency data\n",
    "heat_data = [(row['start_lat'], row['start_lng']) for index, row in df_spring_morning_filtered.iterrows()]\n",
    "heat_data += [(row['end_lat'], row['end_lng']) for index, row in df_spring_morning_filtered.iterrows()]\n",
    "\n",
    "# Create the HeatMap\n",
    "heatmap = folium.plugins.HeatMap(heat_data, radius=10)\n",
    "\n",
    "# Add the HeatMap to the Folium map\n",
    "heatmap.add_to(m)\n",
    "\n",
    "\n",
    "monuments = {\"name\": [\"United States Capitol\",\"The White House\",\"NoMa (North of Massachusetts Avenue)\",\n",
    "                      \"The District of Columbia Public Library\",\"Geography of Washington, D.C. (Zero Milestone on The Ellipse)\"],\n",
    "             \"Lat\": [\"38.889805\",\"38.897957\",\"38.900497\",\"38.942142\",\"38.8903\"],\n",
    "             \"Lng\": [\"-77.009056\",\"-77.036560\",\"-77.007507\",\"-77.025955\",\"-77.0352\"],\n",
    "             }\n",
    "df_monuments_geo = pd.DataFrame.from_dict(monuments, orient='columns')\n",
    "\n",
    "\n",
    "for index, row in df_monuments_geo.iterrows():\n",
    "    lat, lon = row[\"Lat\"], row[\"Lng\"]\n",
    "    # Create a marker with a custom icon and pop-up\n",
    "    marker = folium.Marker([lat, lon], icon=folium.Icon(color='red'), popup=row['name'])\n",
    "    # popup=[folium.Popup(\"START\", parse_html=True, max_width=100),row['start_station_name']\n",
    "    # Add the marker to the map\n",
    "    m.add_child(marker)\n",
    "\n",
    "\n",
    "\n",
    "# Save the map as an HTML file\n",
    "m.save('spring_morning.html')"
   ]
  },
  {
   "cell_type": "code",
   "execution_count": 102,
   "metadata": {},
   "outputs": [],
   "source": [
    "#COMMAND LINE\n",
    "#python -m http.server 8000\n",
    "\n",
    "\n",
    "#NAVIGATE TO :\n",
    "#http://localhost:8000/travel_heatmap.html"
   ]
  },
  {
   "cell_type": "code",
   "execution_count": 103,
   "metadata": {},
   "outputs": [],
   "source": [
    "\n",
    "# Create a Folium map with a base layer\n",
    "m = folium.Map(location=[38.889805,-77.009056], zoom_start=11, min_opacity=0.2) #starting lat lng of washington DC\n",
    "\n",
    "# Define the HeatMap object with the start/end locations and frequency data\n",
    "heat_data = [(row['start_lat'], row['start_lng']) for index, row in df_spring_evening_filtered.iterrows()]\n",
    "heat_data += [(row['end_lat'], row['end_lng']) for index, row in df_spring_evening_filtered.iterrows()]\n",
    "\n",
    "# Create the HeatMap\n",
    "heatmap = folium.plugins.HeatMap(heat_data, radius=10)\n",
    "\n",
    "# Add the HeatMap to the Folium map\n",
    "heatmap.add_to(m)\n",
    "\n",
    "\n",
    "\n",
    "monuments = {\"name\": [\"United States Capitol\",\"The White House\",\"NoMa (North of Massachusetts Avenue)\",\n",
    "                      \"The District of Columbia Public Library\",\"Geography of Washington, D.C. (Zero Milestone on The Ellipse)\"],\n",
    "             \"Lat\": [\"38.889805\",\"38.897957\",\"38.900497\",\"38.942142\",\"38.8903\"],\n",
    "             \"Lng\": [\"-77.009056\",\"-77.036560\",\"-77.007507\",\"-77.025955\",\"-77.0352\"],\n",
    "             }\n",
    "df_monuments_geo = pd.DataFrame.from_dict(monuments, orient='columns')\n",
    "\n",
    "\n",
    "for index, row in df_monuments_geo.iterrows():\n",
    "    lat, lon = row[\"Lat\"], row[\"Lng\"]\n",
    "    # Create a marker with a custom icon and pop-up\n",
    "    marker = folium.Marker([lat, lon], icon=folium.Icon(color='red'), popup=row['name'])\n",
    "    # popup=[folium.Popup(\"START\", parse_html=True, max_width=100),row['start_station_name']\n",
    "    # Add the marker to the map\n",
    "    m.add_child(marker)\n",
    "\n",
    "\n",
    "\n",
    "# Save the map as an HTML file\n",
    "m.save('spring_evening.html')"
   ]
  },
  {
   "cell_type": "code",
   "execution_count": 104,
   "metadata": {},
   "outputs": [],
   "source": [
    "#Heatmap for spring afternoon\n",
    "# Create a Folium map with a base layer\n",
    "m = folium.Map(location=[38.889805,-77.009056], zoom_start=11, min_opacity=0.5) #starting lat lng of washington DC\n",
    "\n",
    "# Define the HeatMap object with the start/end locations and frequency data\n",
    "heat_data = [(row['start_lat'], row['start_lng']) for index, row in df_fall_morning_filtered.iterrows()]\n",
    "heat_data += [(row['end_lat'], row['end_lng']) for index, row in df_fall_morning_filtered.iterrows()]\n",
    "\n",
    "# Create the HeatMap\n",
    "heatmap = folium.plugins.HeatMap(heat_data, radius=10)\n",
    "\n",
    "# Add the HeatMap to the Folium map\n",
    "heatmap.add_to(m)\n",
    "\n",
    "\n",
    "\n",
    "monuments = {\"name\": [\"United States Capitol\",\"The White House\",\"NoMa (North of Massachusetts Avenue)\",\n",
    "                      \"The District of Columbia Public Library\",\"Geography of Washington, D.C. (Zero Milestone on The Ellipse)\"],\n",
    "             \"Lat\": [\"38.889805\",\"38.897957\",\"38.900497\",\"38.942142\",\"38.8903\"],\n",
    "             \"Lng\": [\"-77.009056\",\"-77.036560\",\"-77.007507\",\"-77.025955\",\"-77.0352\"],\n",
    "             }\n",
    "df_monuments_geo = pd.DataFrame.from_dict(monuments, orient='columns')\n",
    "\n",
    "\n",
    "for index, row in df_monuments_geo.iterrows():\n",
    "    lat, lon = row[\"Lat\"], row[\"Lng\"]\n",
    "    # Create a marker with a custom icon and pop-up\n",
    "    marker = folium.Marker([lat, lon], icon=folium.Icon(color='red'), popup=row['name'])\n",
    "    # popup=[folium.Popup(\"START\", parse_html=True, max_width=100),row['start_station_name']\n",
    "    # Add the marker to the map\n",
    "    m.add_child(marker)\n",
    "\n",
    "# Save the map as an HTML file\n",
    "m.save('fall_morning.html')"
   ]
  },
  {
   "cell_type": "code",
   "execution_count": 105,
   "metadata": {},
   "outputs": [],
   "source": [
    "#Heatmap for fall morning/afternoon\n",
    "# Create a Folium map with a base layer\n",
    "m = folium.Map(location=[38.889805,-77.009056], zoom_start=11, min_opacity=0.5) #starting lat lng of washington DC\n",
    "\n",
    "# Define the HeatMap object with the start/end locations and frequency data\n",
    "heat_data = [(row['start_lat'], row['start_lng']) for index, row in df_fall_morning_filtered.iterrows()]\n",
    "heat_data += [(row['end_lat'], row['end_lng']) for index, row in df_fall_morning_filtered.iterrows()]\n",
    "\n",
    "# Create the HeatMap\n",
    "heatmap = folium.plugins.HeatMap(heat_data, radius=10)\n",
    "\n",
    "# Add the HeatMap to the Folium map\n",
    "heatmap.add_to(m)\n",
    "\n",
    "monuments = {\"name\": [\"United States Capitol\",\"The White House\",\"NoMa (North of Massachusetts Avenue)\",\n",
    "                      \"The District of Columbia Public Library\",\"Geography of Washington, D.C. (Zero Milestone on The Ellipse)\"],\n",
    "             \"Lat\": [\"38.889805\",\"38.897957\",\"38.900497\",\"38.942142\",\"38.8903\"],\n",
    "             \"Lng\": [\"-77.009056\",\"-77.036560\",\"-77.007507\",\"-77.025955\",\"-77.0352\"],\n",
    "             }\n",
    "df_monuments_geo = pd.DataFrame.from_dict(monuments, orient='columns')\n",
    "\n",
    "\n",
    "for index, row in df_monuments_geo.iterrows():\n",
    "    lat, lon = row[\"Lat\"], row[\"Lng\"]\n",
    "    # Create a marker with a custom icon and pop-up\n",
    "    marker = folium.Marker([lat, lon], icon=folium.Icon(color='red'), popup=row['name'])\n",
    "    # popup=[folium.Popup(\"START\", parse_html=True, max_width=100),row['start_station_name']\n",
    "    # Add the marker to the map\n",
    "    m.add_child(marker)\n",
    "\n",
    "\n",
    "\n",
    "\n",
    "# Save the map as an HTML file\n",
    "m.save('fall_morning.html')"
   ]
  }
 ],
 "metadata": {
  "kernelspec": {
   "display_name": "base",
   "language": "python",
   "name": "python3"
  },
  "language_info": {
   "codemirror_mode": {
    "name": "ipython",
    "version": 3
   },
   "file_extension": ".py",
   "mimetype": "text/x-python",
   "name": "python",
   "nbconvert_exporter": "python",
   "pygments_lexer": "ipython3",
   "version": "3.12.3"
  }
 },
 "nbformat": 4,
 "nbformat_minor": 2
}
